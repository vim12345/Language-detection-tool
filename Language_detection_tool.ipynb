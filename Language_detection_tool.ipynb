{
  "nbformat": 4,
  "nbformat_minor": 0,
  "metadata": {
    "colab": {
      "provenance": []
    },
    "kernelspec": {
      "name": "python3",
      "display_name": "Python 3"
    },
    "language_info": {
      "name": "python"
    }
  },
  "cells": [
    {
      "cell_type": "markdown",
      "source": [
        "Python Implementation: Language Detection Using langdetect\n"
      ],
      "metadata": {
        "id": "uvi12AIJTNGT"
      }
    },
    {
      "cell_type": "code",
      "execution_count": 2,
      "metadata": {
        "colab": {
          "base_uri": "https://localhost:8080/"
        },
        "id": "Pe6W9hiQSuUs",
        "outputId": "9aa80dff-de7f-4e23-8249-b525d533cb7a"
      },
      "outputs": [
        {
          "output_type": "stream",
          "name": "stdout",
          "text": [
            "Collecting langdetect\n",
            "  Downloading langdetect-1.0.9.tar.gz (981 kB)\n",
            "\u001b[?25l     \u001b[90m━━━━━━━━━━━━━━━━━━━━━━━━━━━━━━━━━━━━━━━━\u001b[0m \u001b[32m0.0/981.5 kB\u001b[0m \u001b[31m?\u001b[0m eta \u001b[36m-:--:--\u001b[0m\r\u001b[2K     \u001b[91m━━━━━━━━━━━━━━━━━━━━━━\u001b[0m\u001b[91m╸\u001b[0m\u001b[90m━━━━━━━━━━━━━━━\u001b[0m \u001b[32m593.9/981.5 kB\u001b[0m \u001b[31m18.9 MB/s\u001b[0m eta \u001b[36m0:00:01\u001b[0m\r\u001b[2K     \u001b[90m━━━━━━━━━━━━━━━━━━━━━━━━━━━━━━━━━━━━━━\u001b[0m \u001b[32m981.5/981.5 kB\u001b[0m \u001b[31m20.2 MB/s\u001b[0m eta \u001b[36m0:00:00\u001b[0m\n",
            "\u001b[?25h  Preparing metadata (setup.py) ... \u001b[?25l\u001b[?25hdone\n",
            "Requirement already satisfied: six in /usr/local/lib/python3.11/dist-packages (from langdetect) (1.17.0)\n",
            "Building wheels for collected packages: langdetect\n",
            "  Building wheel for langdetect (setup.py) ... \u001b[?25l\u001b[?25hdone\n",
            "  Created wheel for langdetect: filename=langdetect-1.0.9-py3-none-any.whl size=993223 sha256=33f58d9e4a45c73011cbeea6aefcb46c9d55412b385aa59c621bd63ee4167507\n",
            "  Stored in directory: /root/.cache/pip/wheels/0a/f2/b2/e5ca405801e05eb7c8ed5b3b4bcf1fcabcd6272c167640072e\n",
            "Successfully built langdetect\n",
            "Installing collected packages: langdetect\n",
            "Successfully installed langdetect-1.0.9\n"
          ]
        }
      ],
      "source": [
        "!pip install langdetect\n",
        "\n",
        "from langdetect import detect, detect_langs\n",
        "\n",
        "# Sample texts in different languages\n",
        "texts = [\n",
        "    \"This is an English sentence.\",\n",
        "    \"Ceci est une phrase française.\",\n",
        "    \"Dies ist ein deutscher Satz.\",\n",
        "    \"これは日本語の文章です。\",\n",
        "    \"Esto es una oración en español.\",\n",
        "    \"Это предложение на русском языке.\"\n",
        "]"
      ]
    },
    {
      "cell_type": "code",
      "source": [
        "print(\"🧠 Detected Languages:\\n\")\n",
        "for i, text in enumerate(texts, start=1):\n",
        "    language = detect(text)\n",
        "    confidence = detect_langs(text)[0]\n",
        "    print(f\"Text {i}: {text}\")\n",
        "    print(f\"🔍 Detected Language: {language} (Confidence: {confidence.prob:.2f})\\n\")"
      ],
      "metadata": {
        "colab": {
          "base_uri": "https://localhost:8080/"
        },
        "id": "MptrvxcKTRNu",
        "outputId": "d9b41bbd-9b69-47e7-ef9b-3ef2f8a18704"
      },
      "execution_count": 3,
      "outputs": [
        {
          "output_type": "stream",
          "name": "stdout",
          "text": [
            "🧠 Detected Languages:\n",
            "\n",
            "Text 1: This is an English sentence.\n",
            "🔍 Detected Language: en (Confidence: 1.00)\n",
            "\n",
            "Text 2: Ceci est une phrase française.\n",
            "🔍 Detected Language: fr (Confidence: 1.00)\n",
            "\n",
            "Text 3: Dies ist ein deutscher Satz.\n",
            "🔍 Detected Language: de (Confidence: 1.00)\n",
            "\n",
            "Text 4: これは日本語の文章です。\n",
            "🔍 Detected Language: ja (Confidence: 1.00)\n",
            "\n",
            "Text 5: Esto es una oración en español.\n",
            "🔍 Detected Language: es (Confidence: 1.00)\n",
            "\n",
            "Text 6: Это предложение на русском языке.\n",
            "🔍 Detected Language: ru (Confidence: 1.00)\n",
            "\n"
          ]
        }
      ]
    },
    {
      "cell_type": "code",
      "source": [],
      "metadata": {
        "id": "QdNyJaT6TTol"
      },
      "execution_count": null,
      "outputs": []
    }
  ]
}